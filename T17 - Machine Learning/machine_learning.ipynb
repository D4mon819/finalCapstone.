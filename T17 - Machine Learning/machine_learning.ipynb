{
 "nbformat": 4,
 "nbformat_minor": 0,
 "metadata": {
  "colab": {
   "provenance": []
  },
  "kernelspec": {
   "name": "python3",
   "display_name": "Python 3"
  },
  "language_info": {
   "name": "python"
  }
 },
 "cells": [
  {
   "cell_type": "markdown",
   "source": [
    "# Machine Learning\n",
    "## Compulsory task"
   ],
   "metadata": {
    "id": "IBb6nSAY5T4I"
   }
  },
  {
   "cell_type": "markdown",
   "source": [
    "1. For each of the following examples describe at least one possible input and\n",
    "output. Justify your answers:  \n",
    "* 1.1 A self-driving car\n",
    "* 1.2 Netflix recommendation system\n",
    "* 1.3 Signature recognition\n",
    "* 1.4 Medical diagnosis\n"
   ],
   "metadata": {
    "id": "N02Qu9_f1N45"
   }
  },
  {
   "cell_type": "markdown",
   "source": [
    "1. Answer here\n",
    "\n",
    "|      | Input(s)      | Output              |\n",
    "| ---- |---------------|---------------------|\n",
    "| 1.1  | camera, GPS   | throttle, brake     |\n",
    "| 1.2  | watch history | recommended list    |\n",
    "| 1.3  | scanned image | Verification result |\n",
    "| 1.4  | symptoms      |  Diagnosis          |"
   ],
   "metadata": {
    "id": "-8aBqprP3ypo"
   }
  },
  {
   "cell_type": "markdown",
   "source": [
    "\n",
    "2. For each of the following case studies, determine whether it is appropriate to utilise regression or classification machine learning algorithms. Justify your answers:\n",
    "* 2.1 Classifying emails as promotion or social based on their content and metadata.\n",
    "* 2.2 Forecasting the stock price of a company based on historical data and market trends.\n",
    "* 2.3 Sorting images of animals into different species based on their visual features.\n",
    "* 2.4 Predicting the likelihood of a patient having a particular disease based on medical history and diagnostic test results."
   ],
   "metadata": {
    "id": "l_I2f4C85yNF"
   }
  },
  {
   "cell_type": "markdown",
   "source": [
    "2. Answer here\n",
    "* 2.1   Classification, it assigning emails base on their type.\n",
    "* 2.2   Regression, it predicts a continuous numerical value\n",
    "* 2.3   Classification, it assigning images base on animal species.\n",
    "* 2.4   Classification, it predict whether a patient has a specific disease or not."
   ],
   "metadata": {
    "id": "WgMUsqQr6qFU"
   }
  },
  {
   "cell_type": "markdown",
   "source": [
    "3. For each of the following real-world problems, determine whether it is appropriate to utilise a supervised or unsupervised machine learning algorithm. Justify your answers:\n",
    "* 3.1 Detecting anomalies in a manufacturing process using sensor data without prior knowledge of specific anomaly patterns.\n",
    "* 3.2 Predicting customer lifetime value based on historical transaction data and customer demographics.\n",
    "* 3.3 Segmenting customer demographics based on their purchase history, browsing behaviour, and preferences.\n",
    "* 3.4 Analysing social media posts to categorise them into different themes.\n"
   ],
   "metadata": {
    "id": "b6f8UETG64hH"
   }
  },
  {
   "cell_type": "markdown",
   "source": [
    "3. Answer here\n",
    "* 3.1   Unsupervised learning, since anomalies have no prior knowledge and model should identify patterns on its own.\n",
    "* 3.2   Supervised learning, customer lifetime value is known and can be used for training.\n",
    "* 3.3   Unsupervised learning, because the target is to discover natural groupings from data.\n",
    "* 3.4   Unsupervised learning, theme on social media cannot be predefined and model should identify patterns on its own."
   ],
   "metadata": {
    "id": "W6dTYBvd675O"
   }
  },
  {
   "cell_type": "markdown",
   "source": [
    "4.\n",
    "For each of the following real-world problems, determine whether it is appropriate to utilise semi-supervised machine learning algorithms. Justify your answers:\n",
    "* 4.1 Predicting fraudulent financial transactions using a dataset where most transactions are labelled as fraudulent or legitimate.\n",
    "* 4.2 Analysing customer satisfaction surveys where only a small portion of the data is labelled with satisfaction ratings.\n",
    "*4.3 Identifying spam emails in a dataset where the majority of emails are labelled.\n",
    "* 4.4 Predicting the probability of default for credit card applicants based on their complete financial and credit-related information.\n"
   ],
   "metadata": {
    "id": "bqsun96o64xe"
   }
  },
  {
   "cell_type": "markdown",
   "source": [
    "4. Answer here\n",
    "* 4.1   Appropriate, it contains labeled examples for both classes, allowing the model to learn from limited labeled data.\n",
    "* 4.2   Appropriate, it can leverage the labeled data and unlabeled data to improve performance.\n",
    "* 4.3   Inappropriate, The majority of emails are labelled.\n",
    "* 4.4   Appropriate, it uses both labeled and unlabeled data to enhance the model's performance."
   ],
   "metadata": {
    "id": "aTWugZ6q68GF"
   }
  }
 ]
}

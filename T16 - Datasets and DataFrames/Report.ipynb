{
 "nbformat": 4,
 "nbformat_minor": 0,
 "metadata": {
  "colab": {
   "provenance": []
  },
  "kernelspec": {
   "name": "python3",
   "language": "python",
   "display_name": "Python 3 (ipykernel)"
  },
  "language_info": {
   "name": "python"
  }
 },
 "cells": [
  {
   "cell_type": "code",
   "execution_count": 39,
   "metadata": {
    "id": "h0LVvvnfJsg5",
    "ExecuteTime": {
     "end_time": "2024-02-01T00:37:36.499138300Z",
     "start_time": "2024-02-01T00:37:36.488981300Z"
    }
   },
   "outputs": [],
   "source": [
    "# Import pandas\n",
    "import pandas as pd"
   ]
  },
  {
   "cell_type": "code",
   "source": [
    "# Create a DataFrame with balance.txt\n",
    "df = pd.read_csv('balance.txt', sep=' ')"
   ],
   "metadata": {
    "id": "rv2oLRnPK36J",
    "ExecuteTime": {
     "end_time": "2024-02-01T00:37:36.521497500Z",
     "start_time": "2024-02-01T00:37:36.492133200Z"
    }
   },
   "execution_count": 40,
   "outputs": []
  },
  {
   "cell_type": "markdown",
   "source": [
    "Write the code needed to produce a report that provides the following information:\n",
    "* Compare the average income based on ethnicity.\n",
    "* On average, do married or single people have a higher balance?\n",
    "* What is the highest income in our dataset?\n",
    "* What is the lowest income in our dataset?\n",
    "* How many cards do we have recorded in our dataset? (Hint: use `sum()`)\n",
    "* How many females do we have information for vs how many males? (Hint: use `count()` for a list of all methods for computation of descriptive stats, explore the [pandas documentation](https://pandas.pydata.org/pandas-docs/stable/reference/frame.html#computations-descriptive-stats)).\n",
    "\n",
    "\n"
   ],
   "metadata": {
    "id": "_LXpBJXZLYoh"
   }
  },
  {
   "cell_type": "code",
   "outputs": [],
   "source": [
    "# Find the mean of income based on ethnicity.\n",
    "average_income_by_ethnicity = df.groupby('Ethnicity')['Income'].mean()\n",
    "# Find the average balance based on married status.\n",
    "average_balance_by_married_status = df.groupby('Married')['Balance'].mean()\n",
    "# Find the highest income in the dataset.\n",
    "highest_income = df['Income'].max()\n",
    "# Find the lowest income in the dataset.\n",
    "lowest_income = df['Income'].min()\n",
    "# Find the total cards recorded in the dataset.\n",
    "total_card = df['Cards'].sum()\n",
    "# Find the numbers of gender.\n",
    "gender_count = df['Gender'].value_counts()"
   ],
   "metadata": {
    "collapsed": false,
    "ExecuteTime": {
     "end_time": "2024-02-01T00:37:36.521497500Z",
     "start_time": "2024-02-01T00:37:36.504142300Z"
    }
   },
   "execution_count": 41
  },
  {
   "cell_type": "code",
   "outputs": [
    {
     "name": "stdout",
     "output_type": "stream",
     "text": [
      "Average Income by Ethnicity:\n",
      "Ethnicity\n",
      "African American    47.682101\n",
      "Asian               44.187833\n",
      "Caucasian           44.521945\n",
      "Name: Income, dtype: float64\n",
      "\n",
      "Average balance by Married Status:\n",
      "Married\n",
      "No     13.493509\n",
      "Yes    13.388473\n",
      "Name: Balance, dtype: float64\n",
      "\n",
      "Highest Income in the Dataset: 186.634\n",
      "Lowest Income in the Dataset: 10.354\n",
      "Total Cards Recorded in the Dataset: 1183\n",
      "\n",
      "Gender counts:\n",
      "Gender\n",
      "Female    207\n",
      "Male      193\n",
      "Name: count, dtype: int64\n"
     ]
    }
   ],
   "source": [
    "print(\"Average Income by Ethnicity:\")\n",
    "print(average_income_by_ethnicity)\n",
    "print(\"\\nAverage balance by Married Status:\")\n",
    "print(average_balance_by_married_status)\n",
    "print('\\nHighest Income in the Dataset:', highest_income)\n",
    "print(\"Lowest Income in the Dataset:\", lowest_income)\n",
    "print(\"Total Cards Recorded in the Dataset:\", total_card)\n",
    "print('\\nGender counts:')\n",
    "print(gender_count)\n"
   ],
   "metadata": {
    "collapsed": false,
    "ExecuteTime": {
     "end_time": "2024-02-01T00:37:36.521497500Z",
     "start_time": "2024-02-01T00:37:36.509165100Z"
    }
   },
   "execution_count": 42
  },
  {
   "cell_type": "code",
   "outputs": [],
   "source": [],
   "metadata": {
    "collapsed": false,
    "ExecuteTime": {
     "end_time": "2024-02-01T00:37:36.522498300Z",
     "start_time": "2024-02-01T00:37:36.515676300Z"
    }
   },
   "execution_count": 42
  },
  {
   "cell_type": "code",
   "outputs": [],
   "source": [],
   "metadata": {
    "collapsed": false,
    "ExecuteTime": {
     "end_time": "2024-02-01T00:37:36.544847Z",
     "start_time": "2024-02-01T00:37:36.523987500Z"
    }
   },
   "execution_count": 42
  },
  {
   "cell_type": "code",
   "outputs": [],
   "source": [],
   "metadata": {
    "collapsed": false,
    "ExecuteTime": {
     "end_time": "2024-02-01T00:37:36.545847500Z",
     "start_time": "2024-02-01T00:37:36.527326100Z"
    }
   },
   "execution_count": 42
  },
  {
   "cell_type": "code",
   "outputs": [],
   "source": [],
   "metadata": {
    "collapsed": false,
    "ExecuteTime": {
     "end_time": "2024-02-01T00:37:36.545847500Z",
     "start_time": "2024-02-01T00:37:36.529833400Z"
    }
   },
   "execution_count": 42
  }
 ]
}

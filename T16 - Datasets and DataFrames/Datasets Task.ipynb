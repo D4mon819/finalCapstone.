{
 "nbformat": 4,
 "nbformat_minor": 0,
 "metadata": {
  "colab": {
   "provenance": []
  },
  "kernelspec": {
   "name": "python3",
   "language": "python",
   "display_name": "Python 3 (ipykernel)"
  },
  "language_info": {
   "name": "python"
  }
 },
 "cells": [
  {
   "cell_type": "markdown",
   "source": [
    "# Compulsory Task"
   ],
   "metadata": {
    "id": "_yS6VSYNQlRV"
   }
  },
  {
   "cell_type": "markdown",
   "source": [
    "In this compulsory task you will use pandas to select data from a dataset and explain the data retrieved for a given line of code."
   ],
   "metadata": {
    "id": "xxJgNn26RYXy"
   }
  },
  {
   "cell_type": "code",
   "source": [
    "import pandas as pd"
   ],
   "metadata": {
    "id": "tJYiNSV2MeX3",
    "ExecuteTime": {
     "end_time": "2024-01-31T22:07:58.290510500Z",
     "start_time": "2024-01-31T22:07:58.228825700Z"
    }
   },
   "execution_count": 74,
   "outputs": []
  },
  {
   "cell_type": "markdown",
   "source": [
    "You will use the same `balance.txt` dataset used in the example Jupyter notebook. Remember to ensure it is in the same folder as this notebook."
   ],
   "metadata": {
    "id": "a7Kn2dBSMojX"
   }
  },
  {
   "cell_type": "code",
   "source": [
    "df = pd.read_csv('balance.txt',sep=' ')"
   ],
   "metadata": {
    "id": "JMyj6fTSMiNr",
    "ExecuteTime": {
     "end_time": "2024-01-31T22:07:58.291511200Z",
     "start_time": "2024-01-31T22:07:58.232829200Z"
    }
   },
   "execution_count": 75,
   "outputs": []
  },
  {
   "cell_type": "markdown",
   "source": [
    "1. Write the code that performs the action described in the following statements."
   ],
   "metadata": {
    "id": "BKTMPK2USayL"
   }
  },
  {
   "cell_type": "code",
   "execution_count": 76,
   "metadata": {
    "id": "j_ic1wpxMCmu",
    "ExecuteTime": {
     "end_time": "2024-01-31T22:07:58.292512Z",
     "start_time": "2024-01-31T22:07:58.242343900Z"
    }
   },
   "outputs": [
    {
     "name": "stdout",
     "output_type": "stream",
     "text": [
      "   Limit  Rating\n",
      "0   3606     283\n",
      "1   6645     483\n",
      "2   7075     514\n",
      "3   9504     681\n",
      "4   4897     357\n"
     ]
    }
   ],
   "source": [
    "# Select the 'Limit' and 'Rating' columns of the first five observations\n",
    "Limit_and_Rating = df[['Limit','Rating']].head(5)\n",
    "print(Limit_and_Rating)"
   ]
  },
  {
   "cell_type": "code",
   "source": [
    "# Select the first five observations with 4 cards\n",
    "selected_4_cards = df[df['Cards'] == 4].head(5)\n",
    "print(selected_4_cards)"
   ],
   "metadata": {
    "id": "H8JeFeHRMWfL",
    "ExecuteTime": {
     "end_time": "2024-01-31T22:07:58.292512Z",
     "start_time": "2024-01-31T22:07:58.248350500Z"
    }
   },
   "execution_count": 77,
   "outputs": [
    {
     "name": "stdout",
     "output_type": "stream",
     "text": [
      "      Balance   Income  Limit  Rating  Cards  Age  Education  Gender Student  \\\n",
      "2   22.530409  104.593   7075     514      4   71         11    Male      No   \n",
      "5   22.486178   80.180   8047     569      4   77         10    Male      No   \n",
      "10  13.994990   63.095   8117     589      4   30         14    Male      No   \n",
      "20   9.853100   17.700   2860     235      4   63         16  Female      No   \n",
      "29  14.007770   26.813   5611     411      4   55         16  Female      No   \n",
      "\n",
      "   Married  Ethnicity  \n",
      "2       No      Asian  \n",
      "5       No  Caucasian  \n",
      "10     Yes  Caucasian  \n",
      "20      No      Asian  \n",
      "29      No  Caucasian  \n"
     ]
    }
   ]
  },
  {
   "cell_type": "code",
   "source": [
    "# Sort the observations by 'Education'. Show users with a high education value first.\n",
    "sorted_education = df.sort_values(by='Education',ascending=False)\n",
    "print(sorted_education)"
   ],
   "metadata": {
    "id": "CH3AvNv6MY8d",
    "ExecuteTime": {
     "end_time": "2024-01-31T22:07:58.293513300Z",
     "start_time": "2024-01-31T22:07:58.255973200Z"
    }
   },
   "execution_count": 78,
   "outputs": [
    {
     "name": "stdout",
     "output_type": "stream",
     "text": [
      "       Balance   Income  Limit  Rating  Cards  Age  Education  Gender Student  \\\n",
      "60   13.297283   35.510   5198     364      2   35         20  Female      No   \n",
      "51   13.010768   39.705   3969     301      2   27         20    Male      No   \n",
      "378  10.140785   19.349   4941     366      1   33         19    Male      No   \n",
      "247  13.774598   36.364   2220     188      3   50         19    Male      No   \n",
      "238  11.079748   26.532   2910     236      6   58         19  Female      No   \n",
      "..         ...      ...    ...     ...    ...  ...        ...     ...     ...   \n",
      "284   8.298482   14.711   2047     167      2   67          6    Male      No   \n",
      "368  19.555838   89.000   5759     440      3   37          6  Female      No   \n",
      "224  25.262836  121.709   7818     584      4   50          6    Male      No   \n",
      "254  13.997826   36.508   6386     469      4   79          6  Female      No   \n",
      "30   10.201523   34.142   5666     413      4   47          5  Female      No   \n",
      "\n",
      "    Married         Ethnicity  \n",
      "60       No             Asian  \n",
      "51      Yes  African American  \n",
      "378     Yes         Caucasian  \n",
      "247      No         Caucasian  \n",
      "238     Yes         Caucasian  \n",
      "..      ...               ...  \n",
      "284     Yes         Caucasian  \n",
      "368      No         Caucasian  \n",
      "224     Yes         Caucasian  \n",
      "254     Yes         Caucasian  \n",
      "30      Yes         Caucasian  \n",
      "\n",
      "[400 rows x 11 columns]\n"
     ]
    }
   ]
  },
  {
   "cell_type": "markdown",
   "source": [
    "2. Write a short explanation in the form of a comment for the following lines of code. For example:  \n",
    "```\n",
    "# Selects the first 5 rows, and all of the columns for those rows.\n",
    "df.iloc[:5,:]\n",
    "```"
   ],
   "metadata": {
    "id": "7D6UiDd8M3VA"
   }
  },
  {
   "cell_type": "code",
   "source": [
    "# Select all rows and all columns of the DataFrame.\n",
    "df.iloc[:,:]"
   ],
   "metadata": {
    "id": "2ER3T_1HM27b",
    "ExecuteTime": {
     "end_time": "2024-01-31T22:07:58.344509100Z",
     "start_time": "2024-01-31T22:07:58.295515100Z"
    }
   },
   "execution_count": 79,
   "outputs": [
    {
     "data": {
      "text/plain": "       Balance   Income  Limit  Rating  Cards  Age  Education  Gender Student  \\\n0    12.240798   14.891   3606     283      2   34         11    Male      No   \n1    23.283334  106.025   6645     483      3   82         15  Female     Yes   \n2    22.530409  104.593   7075     514      4   71         11    Male      No   \n3    27.652811  148.924   9504     681      3   36         11  Female      No   \n4    16.893978   55.882   4897     357      2   68         16    Male      No   \n..         ...      ...    ...     ...    ...  ...        ...     ...     ...   \n395   8.764984   12.096   4100     307      3   32         13    Male      No   \n396   9.943838   13.364   3838     296      5   65         17    Male      No   \n397  14.882078   57.872   4171     321      5   67         12  Female      No   \n398  12.001071   37.728   2525     192      1   44         13    Male      No   \n399  10.159598   18.701   5524     415      5   64          7  Female      No   \n\n    Married         Ethnicity  \n0       Yes         Caucasian  \n1       Yes             Asian  \n2        No             Asian  \n3        No             Asian  \n4       Yes         Caucasian  \n..      ...               ...  \n395     Yes         Caucasian  \n396      No  African American  \n397     Yes         Caucasian  \n398     Yes         Caucasian  \n399      No             Asian  \n\n[400 rows x 11 columns]",
      "text/html": "<div>\n<style scoped>\n    .dataframe tbody tr th:only-of-type {\n        vertical-align: middle;\n    }\n\n    .dataframe tbody tr th {\n        vertical-align: top;\n    }\n\n    .dataframe thead th {\n        text-align: right;\n    }\n</style>\n<table border=\"1\" class=\"dataframe\">\n  <thead>\n    <tr style=\"text-align: right;\">\n      <th></th>\n      <th>Balance</th>\n      <th>Income</th>\n      <th>Limit</th>\n      <th>Rating</th>\n      <th>Cards</th>\n      <th>Age</th>\n      <th>Education</th>\n      <th>Gender</th>\n      <th>Student</th>\n      <th>Married</th>\n      <th>Ethnicity</th>\n    </tr>\n  </thead>\n  <tbody>\n    <tr>\n      <th>0</th>\n      <td>12.240798</td>\n      <td>14.891</td>\n      <td>3606</td>\n      <td>283</td>\n      <td>2</td>\n      <td>34</td>\n      <td>11</td>\n      <td>Male</td>\n      <td>No</td>\n      <td>Yes</td>\n      <td>Caucasian</td>\n    </tr>\n    <tr>\n      <th>1</th>\n      <td>23.283334</td>\n      <td>106.025</td>\n      <td>6645</td>\n      <td>483</td>\n      <td>3</td>\n      <td>82</td>\n      <td>15</td>\n      <td>Female</td>\n      <td>Yes</td>\n      <td>Yes</td>\n      <td>Asian</td>\n    </tr>\n    <tr>\n      <th>2</th>\n      <td>22.530409</td>\n      <td>104.593</td>\n      <td>7075</td>\n      <td>514</td>\n      <td>4</td>\n      <td>71</td>\n      <td>11</td>\n      <td>Male</td>\n      <td>No</td>\n      <td>No</td>\n      <td>Asian</td>\n    </tr>\n    <tr>\n      <th>3</th>\n      <td>27.652811</td>\n      <td>148.924</td>\n      <td>9504</td>\n      <td>681</td>\n      <td>3</td>\n      <td>36</td>\n      <td>11</td>\n      <td>Female</td>\n      <td>No</td>\n      <td>No</td>\n      <td>Asian</td>\n    </tr>\n    <tr>\n      <th>4</th>\n      <td>16.893978</td>\n      <td>55.882</td>\n      <td>4897</td>\n      <td>357</td>\n      <td>2</td>\n      <td>68</td>\n      <td>16</td>\n      <td>Male</td>\n      <td>No</td>\n      <td>Yes</td>\n      <td>Caucasian</td>\n    </tr>\n    <tr>\n      <th>...</th>\n      <td>...</td>\n      <td>...</td>\n      <td>...</td>\n      <td>...</td>\n      <td>...</td>\n      <td>...</td>\n      <td>...</td>\n      <td>...</td>\n      <td>...</td>\n      <td>...</td>\n      <td>...</td>\n    </tr>\n    <tr>\n      <th>395</th>\n      <td>8.764984</td>\n      <td>12.096</td>\n      <td>4100</td>\n      <td>307</td>\n      <td>3</td>\n      <td>32</td>\n      <td>13</td>\n      <td>Male</td>\n      <td>No</td>\n      <td>Yes</td>\n      <td>Caucasian</td>\n    </tr>\n    <tr>\n      <th>396</th>\n      <td>9.943838</td>\n      <td>13.364</td>\n      <td>3838</td>\n      <td>296</td>\n      <td>5</td>\n      <td>65</td>\n      <td>17</td>\n      <td>Male</td>\n      <td>No</td>\n      <td>No</td>\n      <td>African American</td>\n    </tr>\n    <tr>\n      <th>397</th>\n      <td>14.882078</td>\n      <td>57.872</td>\n      <td>4171</td>\n      <td>321</td>\n      <td>5</td>\n      <td>67</td>\n      <td>12</td>\n      <td>Female</td>\n      <td>No</td>\n      <td>Yes</td>\n      <td>Caucasian</td>\n    </tr>\n    <tr>\n      <th>398</th>\n      <td>12.001071</td>\n      <td>37.728</td>\n      <td>2525</td>\n      <td>192</td>\n      <td>1</td>\n      <td>44</td>\n      <td>13</td>\n      <td>Male</td>\n      <td>No</td>\n      <td>Yes</td>\n      <td>Caucasian</td>\n    </tr>\n    <tr>\n      <th>399</th>\n      <td>10.159598</td>\n      <td>18.701</td>\n      <td>5524</td>\n      <td>415</td>\n      <td>5</td>\n      <td>64</td>\n      <td>7</td>\n      <td>Female</td>\n      <td>No</td>\n      <td>No</td>\n      <td>Asian</td>\n    </tr>\n  </tbody>\n</table>\n<p>400 rows × 11 columns</p>\n</div>"
     },
     "execution_count": 79,
     "metadata": {},
     "output_type": "execute_result"
    }
   ]
  },
  {
   "cell_type": "code",
   "source": [
    "# Select rows from index 5 to the end and columns from index 5 to the end.\n",
    "df.iloc[5:,5:]"
   ],
   "metadata": {
    "id": "-CaKYE9YM_1-",
    "ExecuteTime": {
     "end_time": "2024-01-31T22:07:58.382127600Z",
     "start_time": "2024-01-31T22:07:58.346510500Z"
    }
   },
   "execution_count": 80,
   "outputs": [
    {
     "data": {
      "text/plain": "     Age  Education  Gender Student Married         Ethnicity\n5     77         10    Male      No      No         Caucasian\n6     37         12  Female      No      No  African American\n7     87          9    Male      No      No             Asian\n8     66         13  Female      No      No         Caucasian\n9     41         19  Female     Yes     Yes  African American\n..   ...        ...     ...     ...     ...               ...\n395   32         13    Male      No     Yes         Caucasian\n396   65         17    Male      No      No  African American\n397   67         12  Female      No     Yes         Caucasian\n398   44         13    Male      No     Yes         Caucasian\n399   64          7  Female      No      No             Asian\n\n[395 rows x 6 columns]",
      "text/html": "<div>\n<style scoped>\n    .dataframe tbody tr th:only-of-type {\n        vertical-align: middle;\n    }\n\n    .dataframe tbody tr th {\n        vertical-align: top;\n    }\n\n    .dataframe thead th {\n        text-align: right;\n    }\n</style>\n<table border=\"1\" class=\"dataframe\">\n  <thead>\n    <tr style=\"text-align: right;\">\n      <th></th>\n      <th>Age</th>\n      <th>Education</th>\n      <th>Gender</th>\n      <th>Student</th>\n      <th>Married</th>\n      <th>Ethnicity</th>\n    </tr>\n  </thead>\n  <tbody>\n    <tr>\n      <th>5</th>\n      <td>77</td>\n      <td>10</td>\n      <td>Male</td>\n      <td>No</td>\n      <td>No</td>\n      <td>Caucasian</td>\n    </tr>\n    <tr>\n      <th>6</th>\n      <td>37</td>\n      <td>12</td>\n      <td>Female</td>\n      <td>No</td>\n      <td>No</td>\n      <td>African American</td>\n    </tr>\n    <tr>\n      <th>7</th>\n      <td>87</td>\n      <td>9</td>\n      <td>Male</td>\n      <td>No</td>\n      <td>No</td>\n      <td>Asian</td>\n    </tr>\n    <tr>\n      <th>8</th>\n      <td>66</td>\n      <td>13</td>\n      <td>Female</td>\n      <td>No</td>\n      <td>No</td>\n      <td>Caucasian</td>\n    </tr>\n    <tr>\n      <th>9</th>\n      <td>41</td>\n      <td>19</td>\n      <td>Female</td>\n      <td>Yes</td>\n      <td>Yes</td>\n      <td>African American</td>\n    </tr>\n    <tr>\n      <th>...</th>\n      <td>...</td>\n      <td>...</td>\n      <td>...</td>\n      <td>...</td>\n      <td>...</td>\n      <td>...</td>\n    </tr>\n    <tr>\n      <th>395</th>\n      <td>32</td>\n      <td>13</td>\n      <td>Male</td>\n      <td>No</td>\n      <td>Yes</td>\n      <td>Caucasian</td>\n    </tr>\n    <tr>\n      <th>396</th>\n      <td>65</td>\n      <td>17</td>\n      <td>Male</td>\n      <td>No</td>\n      <td>No</td>\n      <td>African American</td>\n    </tr>\n    <tr>\n      <th>397</th>\n      <td>67</td>\n      <td>12</td>\n      <td>Female</td>\n      <td>No</td>\n      <td>Yes</td>\n      <td>Caucasian</td>\n    </tr>\n    <tr>\n      <th>398</th>\n      <td>44</td>\n      <td>13</td>\n      <td>Male</td>\n      <td>No</td>\n      <td>Yes</td>\n      <td>Caucasian</td>\n    </tr>\n    <tr>\n      <th>399</th>\n      <td>64</td>\n      <td>7</td>\n      <td>Female</td>\n      <td>No</td>\n      <td>No</td>\n      <td>Asian</td>\n    </tr>\n  </tbody>\n</table>\n<p>395 rows × 6 columns</p>\n</div>"
     },
     "execution_count": 80,
     "metadata": {},
     "output_type": "execute_result"
    }
   ]
  },
  {
   "cell_type": "code",
   "source": [
    "# Selects all rows from the first column (column with index 0) \n",
    "df.iloc[:,0]"
   ],
   "metadata": {
    "id": "jYTu3SJINTFP",
    "ExecuteTime": {
     "end_time": "2024-01-31T22:07:58.420667500Z",
     "start_time": "2024-01-31T22:07:58.367609200Z"
    }
   },
   "execution_count": 81,
   "outputs": [
    {
     "data": {
      "text/plain": "0      12.240798\n1      23.283334\n2      22.530409\n3      27.652811\n4      16.893978\n         ...    \n395     8.764984\n396     9.943838\n397    14.882078\n398    12.001071\n399    10.159598\nName: Balance, Length: 400, dtype: float64"
     },
     "execution_count": 81,
     "metadata": {},
     "output_type": "execute_result"
    }
   ]
  },
  {
   "cell_type": "code",
   "source": [
    "# Selects the 10th row (index 9) and all columns\n",
    "df.iloc[9,:]"
   ],
   "metadata": {
    "id": "YRVRGDCvNq6k",
    "ExecuteTime": {
     "end_time": "2024-01-31T22:07:58.437683100Z",
     "start_time": "2024-01-31T22:07:58.386636900Z"
    }
   },
   "execution_count": 82,
   "outputs": [
    {
     "data": {
      "text/plain": "Balance             17.756965\nIncome                 71.061\nLimit                    6819\nRating                    491\nCards                       3\nAge                        41\nEducation                  19\nGender                 Female\nStudent                   Yes\nMarried                   Yes\nEthnicity    African American\nName: 9, dtype: object"
     },
     "execution_count": 82,
     "metadata": {},
     "output_type": "execute_result"
    }
   ]
  }
 ]
}
